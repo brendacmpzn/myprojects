{
  "cells": [
    {
      "metadata": {
        "trusted": true,
        "scrolled": true
      },
      "cell_type": "code",
      "source": "#Imports etc\nimport matplotlib\nimport matplotlib.pyplot as plt\nimport numpy as np\nimport os\nfrom math import sqrt",
      "execution_count": 15,
      "outputs": []
    },
    {
      "metadata": {
        "trusted": true,
        "scrolled": false
      },
      "cell_type": "code",
      "source": "ee=np.loadtxt(\"ee.txt\")\nmumu=np.loadtxt(\"mumu.txt\")\nemu=np.loadtxt(\"emu.txt\")\nEvents=np.loadtxt(\"EventsNew.txt\")",
      "execution_count": 16,
      "outputs": []
    },
    {
      "metadata": {},
      "cell_type": "markdown",
      "source": "Last time we may have seen hints of new, heavy particles by looking at oposite sign di-leptons.  Because of momentum conservation we should be able to see the true smoking-gun, a mass peak.  If we can see a clear mass peak, we have found evidence of a new heavy particle in collider data.  This is how the Higgs boson, and numerous others, were discovered.\n\n"
    },
    {
      "metadata": {
        "trusted": true
      },
      "cell_type": "code",
      "source": "#Loop over the event \n\n\n# Given an event figure out how to calculate the invariant (particle 1 and 2)\n\n\n# Calculating the invariant masses for every event - saving it as a list ",
      "execution_count": 17,
      "outputs": []
    },
    {
      "metadata": {
        "trusted": true,
        "scrolled": true
      },
      "cell_type": "code",
      "source": "emin = 0\nemax = 150\nn_bins = 50\n\ndef get_invmass_from_data( data ):\n\n    # invariant mass is \n    # sqrt( m1^2 + m2^2 + 2(E1*E2 + p1\\dot p2) )\n    m1sq = np.array([ evt[5]**2 - evt[2]**2 - evt[3]**2 - evt[4]**2  for evt in data])\n    m2sq = np.array([ evt[11]**2 -evt[10]**2 -evt[9]**2 - evt[8]**2  for evt in data])\n    p1dp2 = 2*np.array([ evt[11]*evt[5] - evt[2]*evt[8] - evt[3]*evt[9] - evt[4]*evt[10] for evt in data])\n\n    invmass = np.sqrt(m1sq + m2sq + p1dp2)\n\n    return(invmass)\n\ndef plot_files(files):\n\n    for each in files:\n        if not os.path.exists(each):\n            print(\"File '{}' does not exist, skipping\".format(each))\n            continue\n\n        # load the event\n        data = np.loadtxt(each)\n        invmass = get_invmass_from_data(data)\n\n        bins = np.linspace(emin, emax, n_bins+1)\n\n        plt.hist(invmass, bins,alpha=0.5, label=each.split(\".\")[0])\n        plt.title(\"Invariant Mass Plot - Brenda Campuzano\")\n        plt.xlabel(\"Energy[GeV]\")\n        plt.ylabel(\"Events\")\n\n    plt.legend()\n    plt.show()\n    plt.close()\n\n# load in flavor pairs\nfiles_flavor = [\"emu.txt\", \"ee.txt\", \"mumu.txt\"]\n\nfiles_sign = [\"same_sign.txt\", \"opp_sign.txt\"]\n\nplot_files(files_flavor)\nplot_files(files_sign)",
      "execution_count": 22,
      "outputs": [
        {
          "output_type": "stream",
          "text": "/home/nbuser/anaconda3_420/lib/python3.5/site-packages/ipykernel/__main__.py:13: RuntimeWarning: invalid value encountered in sqrt\n",
          "name": "stderr"
        },
        {
          "output_type": "display_data",
          "data": {
            "image/png": "[encoded data removed]",
            "text/plain": "<matplotlib.figure.Figure at 0x7f486df2ee80>"
          },
          "metadata": {}
        },
        {
          "output_type": "stream",
          "text": "File 'same_sign.txt' does not exist, skipping\nFile 'opp_sign.txt' does not exist, skipping\n",
          "name": "stdout"
        },
        {
          "output_type": "stream",
          "text": "No handles with labels found to put in legend.\n",
          "name": "stderr"
        },
        {
          "output_type": "display_data",
          "data": {
            "image/png": "[encoded data removed]",
            "text/plain": "<matplotlib.figure.Figure at 0x7f487367f4e0>"
          },
          "metadata": {}
        }
      ]
    },
    {
      "metadata": {
        "trusted": true,
        "scrolled": true
      },
      "cell_type": "code",
      "source": "",
      "execution_count": null,
      "outputs": []
    },
    {
      "metadata": {
        "trusted": true
      },
      "cell_type": "code",
      "source": "# Try the same thing with same-sign and opposite-sign subsamples\n",
      "execution_count": 6,
      "outputs": []
    },
    {
      "metadata": {
        "trusted": true
      },
      "cell_type": "code",
      "source": "",
      "execution_count": null,
      "outputs": []
    },
    {
      "metadata": {
        "trusted": true
      },
      "cell_type": "code",
      "source": "",
      "execution_count": null,
      "outputs": []
    },
    {
      "metadata": {
        "trusted": true
      },
      "cell_type": "code",
      "source": "",
      "execution_count": null,
      "outputs": []
    },
    {
      "metadata": {
        "trusted": true
      },
      "cell_type": "code",
      "source": "",
      "execution_count": null,
      "outputs": []
    },
    {
      "metadata": {
        "trusted": true
      },
      "cell_type": "code",
      "source": "",
      "execution_count": null,
      "outputs": []
    },
    {
      "metadata": {
        "trusted": true
      },
      "cell_type": "code",
      "source": "\n\n",
      "execution_count": null,
      "outputs": []
    },
    {
      "metadata": {
        "trusted": true
      },
      "cell_type": "code",
      "source": "",
      "execution_count": null,
      "outputs": []
    }
  ],
  "metadata": {
    "kernelspec": {
      "name": "python3",
      "display_name": "Python 3",
      "language": "python"
    },
    "language_info": {
      "mimetype": "text/x-python",
      "nbconvert_exporter": "python",
      "name": "python",
      "file_extension": ".py",
      "version": "3.5.4",
      "pygments_lexer": "ipython3",
      "codemirror_mode": {
        "version": 3,
        "name": "ipython"
      }
    }
  },
  "nbformat": 4,
  "nbformat_minor": 1
}